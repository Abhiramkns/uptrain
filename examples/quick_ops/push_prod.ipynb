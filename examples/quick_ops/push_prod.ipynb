{
 "cells": [
  {
   "cell_type": "code",
   "execution_count": 1,
   "id": "4e752b80-aab0-46b7-ba68-68eeaf6c2c72",
   "metadata": {
    "tags": []
   },
   "outputs": [],
   "source": [
    "import numpy as np\n",
    "import pyarrow as pa\n",
    "import ray"
   ]
  },
  {
   "cell_type": "code",
   "execution_count": 2,
   "id": "54a33233-0686-49d7-8778-87812b01ae1e",
   "metadata": {
    "tags": []
   },
   "outputs": [],
   "source": [
    "from uptrain.core.ops_agg import CosineDist, L2Dist, PartitionOp\n",
    "from uptrain.core.ops_io import DuckdbReader, ParquetWriter"
   ]
  },
  {
   "cell_type": "code",
   "execution_count": 3,
   "id": "141f389d-c281-4ead-983e-122ca285d5a7",
   "metadata": {
    "tags": []
   },
   "outputs": [
    {
     "data": {
      "text/plain": [
       "<function ray._private.worker.shutdown(_exiting_interpreter: bool = False)>"
      ]
     },
     "execution_count": 3,
     "metadata": {},
     "output_type": "execute_result"
    }
   ],
   "source": [
    "import atexit\n",
    "\n",
    "atexit.register(ray.shutdown)"
   ]
  },
  {
   "cell_type": "code",
   "execution_count": 4,
   "id": "ebdef334-d1c2-4305-a2c2-2092465ff759",
   "metadata": {
    "tags": []
   },
   "outputs": [
    {
     "name": "stderr",
     "output_type": "stream",
     "text": [
      "2023-03-28 14:24:18,764\tINFO worker.py:1553 -- Started a local Ray instance.\n"
     ]
    },
    {
     "data": {
      "text/html": [
       "<div>\n",
       "    <div style=\"margin-left: 50px;display: flex;flex-direction: row;align-items: center\">\n",
       "        <h3 style=\"color: var(--jp-ui-font-color0)\">Ray</h3>\n",
       "        <svg version=\"1.1\" id=\"ray\" width=\"3em\" viewBox=\"0 0 144.5 144.6\" style=\"margin-left: 3em;margin-right: 3em\">\n",
       "            <g id=\"layer-1\">\n",
       "                <path fill=\"#00a2e9\" class=\"st0\" d=\"M97.3,77.2c-3.8-1.1-6.2,0.9-8.3,5.1c-3.5,6.8-9.9,9.9-17.4,9.6S58,88.1,54.8,81.2c-1.4-3-3-4-6.3-4.1\n",
       "                    c-5.6-0.1-9.9,0.1-13.1,6.4c-3.8,7.6-13.6,10.2-21.8,7.6C5.2,88.4-0.4,80.5,0,71.7c0.1-8.4,5.7-15.8,13.8-18.2\n",
       "                    c8.4-2.6,17.5,0.7,22.3,8c1.3,1.9,1.3,5.2,3.6,5.6c3.9,0.6,8,0.2,12,0.2c1.8,0,1.9-1.6,2.4-2.8c3.5-7.8,9.7-11.8,18-11.9\n",
       "                    c8.2-0.1,14.4,3.9,17.8,11.4c1.3,2.8,2.9,3.6,5.7,3.3c1-0.1,2,0.1,3,0c2.8-0.5,6.4,1.7,8.1-2.7s-2.3-5.5-4.1-7.5\n",
       "                    c-5.1-5.7-10.9-10.8-16.1-16.3C84,38,81.9,37.1,78,38.3C66.7,42,56.2,35.7,53,24.1C50.3,14,57.3,2.8,67.7,0.5\n",
       "                    C78.4-2,89,4.7,91.5,15.3c0.1,0.3,0.1,0.5,0.2,0.8c0.7,3.4,0.7,6.9-0.8,9.8c-1.7,3.2-0.8,5,1.5,7.2c6.7,6.5,13.3,13,19.8,19.7\n",
       "                    c1.8,1.8,3,2.1,5.5,1.2c9.1-3.4,17.9-0.6,23.4,7c4.8,6.9,4.6,16.1-0.4,22.9c-5.4,7.2-14.2,9.9-23.1,6.5c-2.3-0.9-3.5-0.6-5.1,1.1\n",
       "                    c-6.7,6.9-13.6,13.7-20.5,20.4c-1.8,1.8-2.5,3.2-1.4,5.9c3.5,8.7,0.3,18.6-7.7,23.6c-7.9,5-18.2,3.8-24.8-2.9\n",
       "                    c-6.4-6.4-7.4-16.2-2.5-24.3c4.9-7.8,14.5-11,23.1-7.8c3,1.1,4.7,0.5,6.9-1.7C91.7,98.4,98,92.3,104.2,86c1.6-1.6,4.1-2.7,2.6-6.2\n",
       "                    c-1.4-3.3-3.8-2.5-6.2-2.6C99.8,77.2,98.9,77.2,97.3,77.2z M72.1,29.7c5.5,0.1,9.9-4.3,10-9.8c0-0.1,0-0.2,0-0.3\n",
       "                    C81.8,14,77,9.8,71.5,10.2c-5,0.3-9,4.2-9.3,9.2c-0.2,5.5,4,10.1,9.5,10.3C71.8,29.7,72,29.7,72.1,29.7z M72.3,62.3\n",
       "                    c-5.4-0.1-9.9,4.2-10.1,9.7c0,0.2,0,0.3,0,0.5c0.2,5.4,4.5,9.7,9.9,10c5.1,0.1,9.9-4.7,10.1-9.8c0.2-5.5-4-10-9.5-10.3\n",
       "                    C72.6,62.3,72.4,62.3,72.3,62.3z M115,72.5c0.1,5.4,4.5,9.7,9.8,9.9c5.6-0.2,10-4.8,10-10.4c-0.2-5.4-4.6-9.7-10-9.7\n",
       "                    c-5.3-0.1-9.8,4.2-9.9,9.5C115,72.1,115,72.3,115,72.5z M19.5,62.3c-5.4,0.1-9.8,4.4-10,9.8c-0.1,5.1,5.2,10.4,10.2,10.3\n",
       "                    c5.6-0.2,10-4.9,9.8-10.5c-0.1-5.4-4.5-9.7-9.9-9.6C19.6,62.3,19.5,62.3,19.5,62.3z M71.8,134.6c5.9,0.2,10.3-3.9,10.4-9.6\n",
       "                    c0.5-5.5-3.6-10.4-9.1-10.8c-5.5-0.5-10.4,3.6-10.8,9.1c0,0.5,0,0.9,0,1.4c-0.2,5.3,4,9.8,9.3,10\n",
       "                    C71.6,134.6,71.7,134.6,71.8,134.6z\"/>\n",
       "            </g>\n",
       "        </svg>\n",
       "        <table>\n",
       "            <tr>\n",
       "                <td style=\"text-align: left\"><b>Python version:</b></td>\n",
       "                <td style=\"text-align: left\"><b>3.10.9</b></td>\n",
       "            </tr>\n",
       "            <tr>\n",
       "                <td style=\"text-align: left\"><b>Ray version:</b></td>\n",
       "                <td style=\"text-align: left\"><b> 2.3.0</b></td>\n",
       "            </tr>\n",
       "            \n",
       "        </table>\n",
       "    </div>\n",
       "</div>\n"
      ],
      "text/plain": [
       "RayContext(dashboard_url='', python_version='3.10.9', ray_version='2.3.0', ray_commit='cf7a56b4b0b648c324722df7c99c168e92ff0b45', address_info={'node_ip_address': '127.0.0.1', 'raylet_ip_address': '127.0.0.1', 'redis_address': None, 'object_store_address': '/tmp/ray/session_2023-03-28_14-24-16_952231_26245/sockets/plasma_store', 'raylet_socket_name': '/tmp/ray/session_2023-03-28_14-24-16_952231_26245/sockets/raylet', 'webui_url': '', 'session_dir': '/tmp/ray/session_2023-03-28_14-24-16_952231_26245', 'metrics_export_port': 57652, 'gcs_address': '127.0.0.1:61048', 'address': '127.0.0.1:61048', 'dashboard_agent_listen_port': 52365, 'node_id': 'ccfc6676b879bd99d9ef16656d4ac681f869d6d734edebc586935631'})"
      ]
     },
     "execution_count": 4,
     "metadata": {},
     "output_type": "execute_result"
    },
    {
     "name": "stderr",
     "output_type": "stream",
     "text": [
      "\u001b[2m\u001b[33m(raylet)\u001b[0m /Users/ishananand/toolchains/mambaforge/envs/uptrain_env/lib/python3.10/site-packages/ray/dashboard/agent.py:51: DeprecationWarning: There is no current event loop\n",
      "\u001b[2m\u001b[33m(raylet)\u001b[0m   aiogrpc.init_grpc_aio()\n"
     ]
    }
   ],
   "source": [
    "runtime_env = {\"env_vars\": {\"NUMBA_DISABLE_PERFORMANCE_WARNINGS\": \"1\"}}\n",
    "ray.init(runtime_env=runtime_env)"
   ]
  },
  {
   "cell_type": "code",
   "execution_count": 7,
   "id": "b46266b3-4299-49ce-9d39-d566e7f2345c",
   "metadata": {
    "tags": []
   },
   "outputs": [],
   "source": [
    "metric_op = PartitionOp(\n",
    "    columns=[\"postId\", \"model_type\", \"sig_type\"],\n",
    "    agg_ops=dict(\n",
    "        cos_initial=CosineDist(value_col=\"embs\", seq_col=\"views\", mode=\"initial\"),\n",
    "        cos_running=CosineDist(value_col=\"embs\", seq_col=\"views\", mode=\"running\"),\n",
    "        l2_initial=L2Dist(value_col=\"embs\", seq_col=\"views\", mode=\"initial\"),\n",
    "        l2_running=L2Dist(value_col=\"embs\", seq_col=\"views\", mode=\"running\"),\n",
    "    ),\n",
    ")"
   ]
  },
  {
   "cell_type": "code",
   "execution_count": 8,
   "id": "0c7d1c9c-1c35-4caf-afe4-32fa78295147",
   "metadata": {
    "tags": []
   },
   "outputs": [],
   "source": [
    "import pyarrow.parquet\n",
    "\n",
    "ds = pa.parquet.read_table(\n",
    "    \"/Users/ishananand/repos/pypypy/notebooks/uptrain/2023-03-13-16-30_2023-03-13-16-45.pq\"\n",
    ")"
   ]
  },
  {
   "cell_type": "code",
   "execution_count": 9,
   "id": "9aca542a-829b-4eb7-95ee-53e87a2899fd",
   "metadata": {
    "tags": []
   },
   "outputs": [
    {
     "name": "stdout",
     "output_type": "stream",
     "text": [
      "CPU times: user 147 ms, sys: 715 ms, total: 861 ms\n",
      "Wall time: 10.5 s\n"
     ]
    }
   ],
   "source": [
    "%%time\n",
    "metric_actor = metric_op.make_actor()\n",
    "tbl = metric_actor.run.remote(ds)\n",
    "result = ray.get(tbl)"
   ]
  },
  {
   "cell_type": "markdown",
   "id": "52a79da7-dee1-41d1-9f8a-ccd58171ee29",
   "metadata": {},
   "source": [
    "## appendix"
   ]
  },
  {
   "cell_type": "code",
   "execution_count": 8,
   "id": "0ddb7424-632d-4a25-8f72-a6944b0554da",
   "metadata": {
    "tags": []
   },
   "outputs": [
    {
     "data": {
      "text/plain": [
       "(118987, 118987)"
      ]
     },
     "execution_count": 8,
     "metadata": {},
     "output_type": "execute_result"
    }
   ],
   "source": [
    "len(ds), len(result)"
   ]
  },
  {
   "cell_type": "code",
   "execution_count": 17,
   "id": "12602a3d-70a4-44ee-a73c-101b63059268",
   "metadata": {
    "tags": []
   },
   "outputs": [
    {
     "data": {
      "text/plain": [
       "<pyarrow.lib.ChunkedArray object at 0x14f8c3ba0>\n",
       "[\n",
       "  [\n",
       "    \"1000119245_unified_realtime_ffm_video_unified1\",\n",
       "    \"1000304345_unified_realtime_ffm_video_unified1\",\n",
       "    \"1000449245_unified_realtime_ffm_video_unified1\",\n",
       "    \"1000534345_unified_realtime_ffm_video_unified1\",\n",
       "    \"1000703345_unified_realtime_ffm_video_unified1\",\n",
       "    ...\n",
       "    \"9999394345_unified_realtime_ffm_video_unified1\",\n",
       "    \"9999394345_unified_realtime_ffm_video_unified1\",\n",
       "    \"9999394345_unified_realtime_ffm_video_unified1\",\n",
       "    \"9999394345_unified_realtime_ffm_video_unified1\",\n",
       "    \"9999860345_unified_realtime_ffm_video_unified1\"\n",
       "  ]\n",
       "]"
      ]
     },
     "execution_count": 17,
     "metadata": {},
     "output_type": "execute_result"
    }
   ],
   "source": [
    "result[\"partition_index\"]"
   ]
  },
  {
   "cell_type": "code",
   "execution_count": 15,
   "id": "0956e8b5-a05f-44c9-8a23-af864dd47c75",
   "metadata": {
    "tags": []
   },
   "outputs": [
    {
     "data": {
      "text/plain": [
       "28650"
      ]
     },
     "execution_count": 15,
     "metadata": {},
     "output_type": "execute_result"
    }
   ],
   "source": [
    "np.sum(result[\"cos_initial\"].to_numpy() < 1e-12)"
   ]
  },
  {
   "cell_type": "code",
   "execution_count": 13,
   "id": "de5f8b64-c31c-4a53-89b6-84b59702dba2",
   "metadata": {
    "tags": []
   },
   "outputs": [],
   "source": [
    "arr = result[\"partition_index\"]"
   ]
  },
  {
   "cell_type": "code",
   "execution_count": 16,
   "id": "418b0bc9-1c5c-4212-b4c1-9b21a4c9bc26",
   "metadata": {
    "tags": []
   },
   "outputs": [
    {
     "data": {
      "text/plain": [
       "28544"
      ]
     },
     "execution_count": 16,
     "metadata": {},
     "output_type": "execute_result"
    }
   ],
   "source": [
    "len(arr.unique())"
   ]
  },
  {
   "cell_type": "code",
   "execution_count": null,
   "id": "eaec1dae-5b56-4ca4-bbae-ddfc6d23efc8",
   "metadata": {},
   "outputs": [],
   "source": []
  }
 ],
 "metadata": {
  "kernelspec": {
   "display_name": "Python [conda env:uptrain_env]",
   "language": "python",
   "name": "conda-env-uptrain_env-py"
  },
  "language_info": {
   "codemirror_mode": {
    "name": "ipython",
    "version": 3
   },
   "file_extension": ".py",
   "mimetype": "text/x-python",
   "name": "python",
   "nbconvert_exporter": "python",
   "pygments_lexer": "ipython3",
   "version": "3.10.9"
  }
 },
 "nbformat": 4,
 "nbformat_minor": 5
}
