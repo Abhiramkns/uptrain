{
 "cells": [
  {
   "cell_type": "code",
   "execution_count": 1,
   "id": "4e752b80-aab0-46b7-ba68-68eeaf6c2c72",
   "metadata": {
    "tags": []
   },
   "outputs": [],
   "source": [
    "import os\n",
    "\n",
    "import duckdb\n",
    "import numpy as np\n",
    "import pyarrow as pa\n",
    "import pyarrow.compute\n",
    "import pyarrow.parquet\n",
    "import ray"
   ]
  },
  {
   "cell_type": "code",
   "execution_count": 2,
   "id": "54a33233-0686-49d7-8778-87812b01ae1e",
   "metadata": {
    "tags": []
   },
   "outputs": [],
   "source": [
    "from uptrain.quick_ops.ops_agg import CosineDist, L2Dist, PartitionOp\n",
    "from uptrain.quick_ops.ops_io import DuckdbReader, ParquetWriter"
   ]
  },
  {
   "cell_type": "code",
   "execution_count": 3,
   "id": "ebdef334-d1c2-4305-a2c2-2092465ff759",
   "metadata": {
    "tags": []
   },
   "outputs": [
    {
     "name": "stderr",
     "output_type": "stream",
     "text": [
      "2023-03-28 21:50:24,825\tINFO worker.py:1553 -- Started a local Ray instance.\n"
     ]
    },
    {
     "data": {
      "text/html": [
       "<div>\n",
       "    <div style=\"margin-left: 50px;display: flex;flex-direction: row;align-items: center\">\n",
       "        <h3 style=\"color: var(--jp-ui-font-color0)\">Ray</h3>\n",
       "        <svg version=\"1.1\" id=\"ray\" width=\"3em\" viewBox=\"0 0 144.5 144.6\" style=\"margin-left: 3em;margin-right: 3em\">\n",
       "            <g id=\"layer-1\">\n",
       "                <path fill=\"#00a2e9\" class=\"st0\" d=\"M97.3,77.2c-3.8-1.1-6.2,0.9-8.3,5.1c-3.5,6.8-9.9,9.9-17.4,9.6S58,88.1,54.8,81.2c-1.4-3-3-4-6.3-4.1\n",
       "                    c-5.6-0.1-9.9,0.1-13.1,6.4c-3.8,7.6-13.6,10.2-21.8,7.6C5.2,88.4-0.4,80.5,0,71.7c0.1-8.4,5.7-15.8,13.8-18.2\n",
       "                    c8.4-2.6,17.5,0.7,22.3,8c1.3,1.9,1.3,5.2,3.6,5.6c3.9,0.6,8,0.2,12,0.2c1.8,0,1.9-1.6,2.4-2.8c3.5-7.8,9.7-11.8,18-11.9\n",
       "                    c8.2-0.1,14.4,3.9,17.8,11.4c1.3,2.8,2.9,3.6,5.7,3.3c1-0.1,2,0.1,3,0c2.8-0.5,6.4,1.7,8.1-2.7s-2.3-5.5-4.1-7.5\n",
       "                    c-5.1-5.7-10.9-10.8-16.1-16.3C84,38,81.9,37.1,78,38.3C66.7,42,56.2,35.7,53,24.1C50.3,14,57.3,2.8,67.7,0.5\n",
       "                    C78.4-2,89,4.7,91.5,15.3c0.1,0.3,0.1,0.5,0.2,0.8c0.7,3.4,0.7,6.9-0.8,9.8c-1.7,3.2-0.8,5,1.5,7.2c6.7,6.5,13.3,13,19.8,19.7\n",
       "                    c1.8,1.8,3,2.1,5.5,1.2c9.1-3.4,17.9-0.6,23.4,7c4.8,6.9,4.6,16.1-0.4,22.9c-5.4,7.2-14.2,9.9-23.1,6.5c-2.3-0.9-3.5-0.6-5.1,1.1\n",
       "                    c-6.7,6.9-13.6,13.7-20.5,20.4c-1.8,1.8-2.5,3.2-1.4,5.9c3.5,8.7,0.3,18.6-7.7,23.6c-7.9,5-18.2,3.8-24.8-2.9\n",
       "                    c-6.4-6.4-7.4-16.2-2.5-24.3c4.9-7.8,14.5-11,23.1-7.8c3,1.1,4.7,0.5,6.9-1.7C91.7,98.4,98,92.3,104.2,86c1.6-1.6,4.1-2.7,2.6-6.2\n",
       "                    c-1.4-3.3-3.8-2.5-6.2-2.6C99.8,77.2,98.9,77.2,97.3,77.2z M72.1,29.7c5.5,0.1,9.9-4.3,10-9.8c0-0.1,0-0.2,0-0.3\n",
       "                    C81.8,14,77,9.8,71.5,10.2c-5,0.3-9,4.2-9.3,9.2c-0.2,5.5,4,10.1,9.5,10.3C71.8,29.7,72,29.7,72.1,29.7z M72.3,62.3\n",
       "                    c-5.4-0.1-9.9,4.2-10.1,9.7c0,0.2,0,0.3,0,0.5c0.2,5.4,4.5,9.7,9.9,10c5.1,0.1,9.9-4.7,10.1-9.8c0.2-5.5-4-10-9.5-10.3\n",
       "                    C72.6,62.3,72.4,62.3,72.3,62.3z M115,72.5c0.1,5.4,4.5,9.7,9.8,9.9c5.6-0.2,10-4.8,10-10.4c-0.2-5.4-4.6-9.7-10-9.7\n",
       "                    c-5.3-0.1-9.8,4.2-9.9,9.5C115,72.1,115,72.3,115,72.5z M19.5,62.3c-5.4,0.1-9.8,4.4-10,9.8c-0.1,5.1,5.2,10.4,10.2,10.3\n",
       "                    c5.6-0.2,10-4.9,9.8-10.5c-0.1-5.4-4.5-9.7-9.9-9.6C19.6,62.3,19.5,62.3,19.5,62.3z M71.8,134.6c5.9,0.2,10.3-3.9,10.4-9.6\n",
       "                    c0.5-5.5-3.6-10.4-9.1-10.8c-5.5-0.5-10.4,3.6-10.8,9.1c0,0.5,0,0.9,0,1.4c-0.2,5.3,4,9.8,9.3,10\n",
       "                    C71.6,134.6,71.7,134.6,71.8,134.6z\"/>\n",
       "            </g>\n",
       "        </svg>\n",
       "        <table>\n",
       "            <tr>\n",
       "                <td style=\"text-align: left\"><b>Python version:</b></td>\n",
       "                <td style=\"text-align: left\"><b>3.10.9</b></td>\n",
       "            </tr>\n",
       "            <tr>\n",
       "                <td style=\"text-align: left\"><b>Ray version:</b></td>\n",
       "                <td style=\"text-align: left\"><b> 2.3.0</b></td>\n",
       "            </tr>\n",
       "            \n",
       "        </table>\n",
       "    </div>\n",
       "</div>\n"
      ],
      "text/plain": [
       "RayContext(dashboard_url='', python_version='3.10.9', ray_version='2.3.0', ray_commit='cf7a56b4b0b648c324722df7c99c168e92ff0b45', address_info={'node_ip_address': '127.0.0.1', 'raylet_ip_address': '127.0.0.1', 'redis_address': None, 'object_store_address': '/tmp/ray/session_2023-03-28_21-50-23_382927_6589/sockets/plasma_store', 'raylet_socket_name': '/tmp/ray/session_2023-03-28_21-50-23_382927_6589/sockets/raylet', 'webui_url': '', 'session_dir': '/tmp/ray/session_2023-03-28_21-50-23_382927_6589', 'metrics_export_port': 52216, 'gcs_address': '127.0.0.1:59226', 'address': '127.0.0.1:59226', 'dashboard_agent_listen_port': 52365, 'node_id': '8b9f3ba258dedada1b7e0cb4116871ab0dbe416f2cce68800fd6348c'})"
      ]
     },
     "execution_count": 3,
     "metadata": {},
     "output_type": "execute_result"
    }
   ],
   "source": [
    "runtime_env = {\"env_vars\": {\"NUMBA_DISABLE_PERFORMANCE_WARNINGS\": \"1\"}}\n",
    "ray.init(runtime_env=runtime_env)"
   ]
  },
  {
   "cell_type": "code",
   "execution_count": 4,
   "id": "bfce693c-09e9-4422-8049-f1716037dd75",
   "metadata": {
    "tags": []
   },
   "outputs": [
    {
     "data": {
      "text/plain": [
       "<function ray._private.worker.shutdown(_exiting_interpreter: bool = False)>"
      ]
     },
     "execution_count": 4,
     "metadata": {},
     "output_type": "execute_result"
    }
   ],
   "source": [
    "import atexit\n",
    "\n",
    "atexit.register(ray.shutdown)"
   ]
  },
  {
   "cell_type": "code",
   "execution_count": 5,
   "id": "aef85d8f-0e01-456e-97d8-394a614d0386",
   "metadata": {
    "tags": []
   },
   "outputs": [
    {
     "name": "stderr",
     "output_type": "stream",
     "text": [
      "\u001b[2m\u001b[33m(raylet)\u001b[0m /Users/ishananand/toolchains/mambaforge/envs/uptrain_env/lib/python3.10/site-packages/ray/dashboard/agent.py:51: DeprecationWarning: There is no current event loop\n",
      "\u001b[2m\u001b[33m(raylet)\u001b[0m   aiogrpc.init_grpc_aio()\n"
     ]
    }
   ],
   "source": [
    "DATASET_DIR = \"/Users/ishananand/repos/datasets/uptrain/views_dataset/\""
   ]
  },
  {
   "cell_type": "markdown",
   "id": "e1b2478a-5859-4834-a6b2-ec4b08183a9e",
   "metadata": {},
   "source": [
    "## line chart metrics"
   ]
  },
  {
   "cell_type": "code",
   "execution_count": 44,
   "id": "64b7401c-0b04-4142-a109-246d28da9819",
   "metadata": {
    "tags": []
   },
   "outputs": [],
   "source": [
    "metric_op = PartitionOp(\n",
    "    columns=[\"postId\", \"model_type\", \"sig_type\"],\n",
    "    agg_ops=dict(\n",
    "        cos_initial=CosineDist(value_col=\"embs\", seq_col=\"views\", mode=\"initial\"),\n",
    "        cos_running=CosineDist(value_col=\"embs\", seq_col=\"views\", mode=\"running\"),\n",
    "        l2_initial=L2Dist(value_col=\"embs\", seq_col=\"views\", mode=\"initial\"),\n",
    "        l2_running=L2Dist(value_col=\"embs\", seq_col=\"views\", mode=\"running\"),\n",
    "    ),\n",
    ")\n",
    "metric_actor = metric_op.make_actor()"
   ]
  },
  {
   "cell_type": "code",
   "execution_count": 45,
   "id": "33b9318e-7fe5-4a01-a898-300f94aab2ff",
   "metadata": {
    "tags": []
   },
   "outputs": [
    {
     "name": "stderr",
     "output_type": "stream",
     "text": [
      "100%|███████████████████████████████████████████████████████████████████| 10/10 [00:15<00:00,  1.55s/it]\n"
     ]
    }
   ],
   "source": [
    "import tqdm\n",
    "\n",
    "fnames = sorted(os.listdir(DATASET_DIR))\n",
    "for fname in tqdm.tqdm(fnames[:10]):\n",
    "    ds = pa.parquet.read_table(str(os.path.join(DATASET_DIR, fname)))\n",
    "    result_ref = metric_actor.run.remote(ds)\n",
    "    result = ray.get(result_ref)"
   ]
  },
  {
   "cell_type": "code",
   "execution_count": null,
   "id": "fd8abb73-42a8-479a-80ce-811f31347185",
   "metadata": {},
   "outputs": [],
   "source": []
  },
  {
   "cell_type": "markdown",
   "id": "c22246ed-e740-4f2e-bae1-6c2ee9c2558d",
   "metadata": {},
   "source": [
    "## statistics at each checkpoint"
   ]
  },
  {
   "cell_type": "code",
   "execution_count": 46,
   "id": "e13a2170-4cfa-4a39-9471-7dfadbde364a",
   "metadata": {
    "tags": []
   },
   "outputs": [],
   "source": [
    "checkpoints = [0, 1000, 2500, 5000, 10000, 25000, 50000, 100000]"
   ]
  },
  {
   "cell_type": "code",
   "execution_count": 47,
   "id": "ebcc54c7-85ee-402e-a407-34f3d7382a45",
   "metadata": {
    "tags": []
   },
   "outputs": [],
   "source": [
    "def generate_case_stmt(checkpoints):\n",
    "    slacks = list(int(x / 10) for x in np.diff(checkpoints))\n",
    "    slacks.insert(0, int(slacks[0] / 2))\n",
    "\n",
    "    case_stmt = \"CASE\\n\"\n",
    "    for slack, point in zip(slacks, checkpoints):\n",
    "        case_stmt += f\"WHEN views BETWEEN {max(0, point-slack)} AND {point + slack} THEN {point}\\n\"\n",
    "    case_stmt += \"ELSE NULL\\nEND\"\n",
    "    return case_stmt"
   ]
  },
  {
   "cell_type": "code",
   "execution_count": 48,
   "id": "e5860b8f-b2ef-4fae-bb18-ad9cb192f1e9",
   "metadata": {
    "tags": []
   },
   "outputs": [],
   "source": [
    "group_query_str = \"\"\"\n",
    "SELECT \n",
    "    *,\n",
    "    {case_stmt} AS checkpoint\n",
    "FROM\n",
    "    result\n",
    "WHERE\n",
    "    checkpoint IS NOT NULL\n",
    "\"\"\".format(\n",
    "    case_stmt=generate_case_stmt(checkpoints)\n",
    ")\n",
    "\n",
    "duckdb.execute(group_query_str)\n",
    "tbl = duckdb.fetch_arrow_table()"
   ]
  },
  {
   "cell_type": "code",
   "execution_count": 50,
   "id": "7acb08e1-fa89-4ec9-8901-e6ec6eb4dd35",
   "metadata": {
    "tags": []
   },
   "outputs": [
    {
     "data": {
      "text/plain": [
       "model_type: string\n",
       "sig_type: string\n",
       "postId: int64\n",
       "embs: list<l: double>\n",
       "  child 0, l: double\n",
       "bias: double\n",
       "tagGenre: string\n",
       "views: int64\n",
       "emb_update_time: timestamp[us, tz=UTC]\n",
       "partition_index: string\n",
       "cos_initial: double\n",
       "cos_running: double\n",
       "l2_initial: double\n",
       "l2_running: double\n",
       "checkpoint: int32"
      ]
     },
     "execution_count": 50,
     "metadata": {},
     "output_type": "execute_result"
    }
   ],
   "source": [
    "tbl.schema"
   ]
  },
  {
   "cell_type": "code",
   "execution_count": 55,
   "id": "2b173657-976e-4991-8208-e4e650c488d4",
   "metadata": {
    "tags": []
   },
   "outputs": [
    {
     "data": {
      "text/plain": [
       "pyarrow.Table\n",
       "cos_initial_mean: double\n",
       "cos_initial_stddev: double\n",
       "postId_count: int64\n",
       "checkpoint: int32\n",
       "----\n",
       "cos_initial_mean: [[0.0026516188134688232,0.012198132251292416,0.010676663928267329,0.09756951672937267,0.07245846191322035,0.019940778003835643,0.007679197579266151,0.021165858092912403]]\n",
       "cos_initial_stddev: [[0.004141232561326782,0.02889598657493061,0.02427104726545848,0.13888052290350913,0.13452522400308492,0.03591387452039128,0.004051337233501998,0.03074757927831714]]\n",
       "postId_count: [[2430,862,699,1274,571,897,656,433]]\n",
       "checkpoint: [[0,1000,2500,10000,5000,50000,100000,25000]]"
      ]
     },
     "execution_count": 55,
     "metadata": {},
     "output_type": "execute_result"
    },
    {
     "name": "stderr",
     "output_type": "stream",
     "text": [
      "*** SIGTERM received at time=1680030233 ***\n",
      "PC: @        0x187606d54  (unknown)  kevent\n",
      "[2023-03-29 00:33:53,917 E 6589 165776] logging.cc:361: *** SIGTERM received at time=1680030233 ***\n",
      "[2023-03-29 00:33:53,917 E 6589 165776] logging.cc:361: PC: @        0x187606d54  (unknown)  kevent\n"
     ]
    }
   ],
   "source": [
    "tbl.group_by([\"checkpoint\"]).aggregate(\n",
    "    [(\"cos_initial\", \"mean\"), (\"cos_initial\", \"stddev\"), (\"postId\", \"count\")]\n",
    ")"
   ]
  },
  {
   "cell_type": "code",
   "execution_count": null,
   "id": "d059c3e1-eff1-4f9d-aafb-d1e1cd3b2ffc",
   "metadata": {},
   "outputs": [],
   "source": []
  },
  {
   "cell_type": "markdown",
   "id": "eb1b0e3f-004e-488f-a525-ce0fd1605da0",
   "metadata": {},
   "source": [
    "## distance metrics between pairs of posts at each checkpoint"
   ]
  },
  {
   "cell_type": "code",
   "execution_count": 19,
   "id": "70880b79-f6a5-4cda-92cf-c4df70339172",
   "metadata": {
    "tags": []
   },
   "outputs": [],
   "source": [
    "group_query_str = \"\"\"\n",
    "SELECT \n",
    "    *,\n",
    "    {case_stmt} AS checkpoint\n",
    "FROM\n",
    "    ds\n",
    "WHERE\n",
    "    checkpoint IS NOT NULL\n",
    "\"\"\".format(\n",
    "    case_stmt=generate_case_stmt(checkpoints)\n",
    ")\n",
    "\n",
    "duckdb.execute(group_query_str)\n",
    "tbl = duckdb.fetch_arrow_table()"
   ]
  },
  {
   "cell_type": "code",
   "execution_count": 24,
   "id": "80869c4a-3b5b-4ddf-a781-604b1bdccb23",
   "metadata": {
    "tags": []
   },
   "outputs": [
    {
     "data": {
      "text/plain": [
       "pyarrow.Table\n",
       "postId_count: int64\n",
       "checkpoint: int32\n",
       "----\n",
       "postId_count: [[2430,862,571,897,656,699,1274,433]]\n",
       "checkpoint: [[0,1000,5000,50000,100000,2500,10000,25000]]"
      ]
     },
     "execution_count": 24,
     "metadata": {},
     "output_type": "execute_result"
    }
   ],
   "source": [
    "tbl.group_by([\"checkpoint\"]).aggregate([(\"postId\", \"count\")])"
   ]
  },
  {
   "cell_type": "code",
   "execution_count": 28,
   "id": "99867e19-6702-494a-acda-9a733986c814",
   "metadata": {
    "tags": []
   },
   "outputs": [],
   "source": [
    "from uptrain.quick_ops.ops_agg import compute_op_cosine_dist_running"
   ]
  },
  {
   "cell_type": "code",
   "execution_count": 39,
   "id": "b9d7b309-8440-4338-aa3b-03e32d76bc00",
   "metadata": {
    "tags": []
   },
   "outputs": [],
   "source": [
    "rng = np.random.default_rng(42)\n",
    "NUM_SAMPLES = 1000\n",
    "\n",
    "results = []\n",
    "for point in checkpoints:\n",
    "    sub_tbl = tbl.filter(pc.field(\"checkpoint\") == point)\n",
    "    values = sub_tbl[\"embs\"].to_numpy()\n",
    "\n",
    "    sample_pair_indices = rng.choice(len(values), size=(NUM_SAMPLES, 2))\n",
    "    out = []\n",
    "    for i, j in sample_pair_indices:\n",
    "        val, _ = compute_op_cosine_dist_running(values[i], values[j])\n",
    "        out.append(val)\n",
    "    results.append(np.array(out))"
   ]
  },
  {
   "cell_type": "code",
   "execution_count": 40,
   "id": "ae7a8eb2-ee4c-4f5d-80b6-a3c6c62ad9b8",
   "metadata": {
    "tags": []
   },
   "outputs": [
    {
     "name": "stdout",
     "output_type": "stream",
     "text": [
      "0.46764481540916913 0.2410999163475373\n",
      "0.4080929200570356 0.13504422765044968\n",
      "0.4194197950267693 0.1488175745557255\n",
      "0.5224944343948985 0.17563401941367637\n",
      "0.5482238137975906 0.23671032842008488\n",
      "0.7108836637784443 0.2608231597483439\n",
      "0.6674368399762961 0.2774992745418799\n",
      "0.681480015911964 0.35700323510553544\n"
     ]
    }
   ],
   "source": [
    "for res in results:\n",
    "    print(np.mean(res), np.std(res))"
   ]
  },
  {
   "cell_type": "code",
   "execution_count": null,
   "id": "1d5569ec-c14d-43f4-ac62-061a9860b73a",
   "metadata": {},
   "outputs": [],
   "source": []
  },
  {
   "cell_type": "code",
   "execution_count": null,
   "id": "89e78ecf-6ee8-4bb4-bbdf-c2452bcd6dc4",
   "metadata": {},
   "outputs": [],
   "source": []
  },
  {
   "cell_type": "code",
   "execution_count": null,
   "id": "f3bc2686-fde9-4b64-b9c1-3c1a83006419",
   "metadata": {},
   "outputs": [],
   "source": []
  },
  {
   "cell_type": "markdown",
   "id": "52a79da7-dee1-41d1-9f8a-ccd58171ee29",
   "metadata": {},
   "source": [
    "## appendix"
   ]
  },
  {
   "cell_type": "code",
   "execution_count": null,
   "id": "eaec1dae-5b56-4ca4-bbae-ddfc6d23efc8",
   "metadata": {},
   "outputs": [],
   "source": []
  }
 ],
 "metadata": {
  "kernelspec": {
   "display_name": "Python [conda env:uptrain_env]",
   "language": "python",
   "name": "conda-env-uptrain_env-py"
  },
  "language_info": {
   "codemirror_mode": {
    "name": "ipython",
    "version": 3
   },
   "file_extension": ".py",
   "mimetype": "text/x-python",
   "name": "python",
   "nbconvert_exporter": "python",
   "pygments_lexer": "ipython3",
   "version": "3.10.9"
  }
 },
 "nbformat": 4,
 "nbformat_minor": 5
}
