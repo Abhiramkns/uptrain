{
 "cells": [
  {
   "cell_type": "markdown",
   "id": "e8f14ab7-fdd2-48ae-91ff-71eed37f64f4",
   "metadata": {},
   "source": [
    "following the connectorx docs"
   ]
  },
  {
   "cell_type": "code",
   "execution_count": 1,
   "id": "f5b5390b-63e0-41a5-816a-832ffd86ebc9",
   "metadata": {},
   "outputs": [],
   "source": [
    "# pip install google-cloud-bigquery\n",
    "# https://github.com/googleapis/python-bigquery/blob/main/samples/query_to_arrow.py"
   ]
  },
  {
   "cell_type": "code",
   "execution_count": 2,
   "id": "fbc33fec-a3df-4718-be3b-5256783698b0",
   "metadata": {},
   "outputs": [],
   "source": [
    "import os\n",
    "\n",
    "auth_file = \"/home/ananis/notebooks/uptrain/bigquery_creds.json\"\n",
    "os.environ[\"GOOGLE_APPLICATION_CREDENTIALS\"] = auth_file"
   ]
  },
  {
   "cell_type": "code",
   "execution_count": 3,
   "id": "0b963695-ef21-4d9f-bf89-bc6beb58f5bf",
   "metadata": {},
   "outputs": [],
   "source": [
    "from datetime import datetime, timedelta\n",
    "\n",
    "import pyarrow as pa\n",
    "from google.cloud import bigquery"
   ]
  },
  {
   "cell_type": "code",
   "execution_count": 9,
   "id": "36a8daa0-086b-4e37-8a26-0c8e3ef174be",
   "metadata": {},
   "outputs": [],
   "source": [
    "def get_query(table_name, t_start, t_end):\n",
    "    return \"\"\"\n",
    "    SELECT\n",
    "        model_type,\n",
    "        sig_type,\n",
    "        CAST(postId AS INT64) AS postId,\n",
    "        ARRAY(SELECT CAST(e AS FLOAT64) FROM UNNEST(JSON_EXTRACT_ARRAY(embs)) AS e) AS embs,\n",
    "        CAST(bias AS FLOAT64) AS bias,\n",
    "        tagGenre,\n",
    "        IFNULL(views, 0) AS views,\n",
    "        emb_update_time\n",
    "    FROM {table_name}\n",
    "    WHERE\n",
    "        emb_len = 64\n",
    "        AND tagGenre IN ('Devotion','Music & Dance','Humour & Fun','Romance & Relationships','News','Sports','Wishes')\n",
    "        AND emb_update_time >= '{t_start}' \n",
    "        AND emb_update_time < '{t_end}'\n",
    "    ORDER BY\n",
    "        emb_update_time,\n",
    "        views\n",
    "    \"\"\".format(\n",
    "        table_name=table_name, t_start=str(t_start), t_end=str(t_end)\n",
    "    )"
   ]
  },
  {
   "cell_type": "code",
   "execution_count": 10,
   "id": "07b8728d-4110-45f1-ab70-b93433c11587",
   "metadata": {},
   "outputs": [],
   "source": [
    "# query_str = (\n",
    "#     f\"SELECT COUNT(*), min(emb_update_time), max(emb_update_time) FROM {table_name}\"\n",
    "# )"
   ]
  },
  {
   "cell_type": "markdown",
   "id": "8fef4b9f-4b07-4c45-9be3-8f68c067d222",
   "metadata": {},
   "source": [
    "available time  - 2023-03-11 00:11:27, 2023-03-15 23:59:59"
   ]
  },
  {
   "cell_type": "code",
   "execution_count": 11,
   "id": "c65703b4-631f-4adb-8d67-b6ba0e14eabc",
   "metadata": {},
   "outputs": [],
   "source": [
    "def fetch_dataset(t_start, t_end):\n",
    "    client = bigquery.Client()\n",
    "    table_name = \"`maximal-furnace-783.uptrain.ffm_embeds_reatlimeVsbatch`\"\n",
    "    query_str = get_query(table_name, t_start, t_end)\n",
    "    query_job = client.query(query_str)\n",
    "    return query_job.to_arrow()"
   ]
  },
  {
   "cell_type": "code",
   "execution_count": 12,
   "id": "587d126b-f0fe-4636-922c-08494bf36e03",
   "metadata": {},
   "outputs": [
    {
     "name": "stdout",
     "output_type": "stream",
     "text": [
      "CPU times: user 302 ms, sys: 29.5 ms, total: 332 ms\n",
      "Wall time: 5.87 s\n"
     ]
    }
   ],
   "source": [
    "%%time\n",
    "INCREMENT = timedelta(minutes=1)\n",
    "t_start = datetime(2023, 3, 12)\n",
    "t_end = t_start + INCREMENT\n",
    "\n",
    "arrow_table = fetch_dataset(t_start, t_end)"
   ]
  },
  {
   "cell_type": "code",
   "execution_count": 13,
   "id": "08b2a2fb-21da-4262-8ba7-2334bda68fd4",
   "metadata": {},
   "outputs": [
    {
     "data": {
      "text/plain": [
       "1388"
      ]
     },
     "execution_count": 13,
     "metadata": {},
     "output_type": "execute_result"
    }
   ],
   "source": [
    "len(arrow_table)"
   ]
  },
  {
   "cell_type": "markdown",
   "id": "61326180-3345-4525-b430-0b98f58ad3b7",
   "metadata": {},
   "source": [
    "## main loop"
   ]
  },
  {
   "cell_type": "code",
   "execution_count": 14,
   "id": "6a4531d8-bd1a-45e7-81b2-5645a01f15b7",
   "metadata": {},
   "outputs": [],
   "source": [
    "import concurrent.futures\n",
    "import os\n",
    "from datetime import datetime, timedelta\n",
    "\n",
    "import pyarrow.parquet"
   ]
  },
  {
   "cell_type": "code",
   "execution_count": 15,
   "id": "6bfae298-6bce-4bc1-a4eb-a003116260df",
   "metadata": {},
   "outputs": [],
   "source": [
    "DATASET_DIR = \"./datasets/\"\n",
    "\n",
    "\n",
    "def get_file_name(t_start, t_end):\n",
    "    return os.fspath(\n",
    "        os.path.join(DATASET_DIR, f\"{t_start:%Y-%m-%d-%H-%M}_{t_end:%Y-%m-%d-%H-%M}.pq\")\n",
    "    )\n",
    "\n",
    "\n",
    "def ensure_data_exists(timepoint: datetime, window_hrs: int, batch_mins: int):\n",
    "    assert 60 % batch_mins == 0\n",
    "    timepoint = timepoint.replace(minute=batch_mins * (timepoint.minute // batch_mins))\n",
    "\n",
    "    os.makedirs(DATASET_DIR, exist_ok=True)\n",
    "    blocks_to_fetch = []\n",
    "    dt = timepoint - timedelta(hours=window_hrs)\n",
    "    while True:\n",
    "        if dt >= timepoint:\n",
    "            break\n",
    "        dt_until = dt + timedelta(minutes=batch_mins)\n",
    "\n",
    "        if not os.path.exists(get_file_name(dt, dt_until)):\n",
    "            blocks_to_fetch.append((dt, dt_until))\n",
    "        dt = dt_until\n",
    "    print(f\"num of blocks to fetch: {len(blocks_to_fetch)}\")\n",
    "\n",
    "    with concurrent.futures.ThreadPoolExecutor(max_workers=1) as executor:\n",
    "        future_to_block = {\n",
    "            executor.submit(fetch_dataset, b[0], b[1]): b for b in blocks_to_fetch\n",
    "        }\n",
    "        for fut in concurrent.futures.as_completed(future_to_block):\n",
    "            block = future_to_block[fut]\n",
    "            try:\n",
    "                tbl = fut.result()\n",
    "            except Exception as exc:\n",
    "                print(f\"Exception: {exc} raised for block: {block}\")\n",
    "            else:\n",
    "                dt, dt_until = block\n",
    "                pa.parquet.write_table(tbl, get_file_name(dt, dt_until))\n",
    "                print(f\"done with block: {block}\")"
   ]
  },
  {
   "cell_type": "code",
   "execution_count": 16,
   "id": "e1e61374-d379-4730-b45c-06a588bf110a",
   "metadata": {},
   "outputs": [
    {
     "name": "stdout",
     "output_type": "stream",
     "text": [
      "num of blocks to fetch: 0\n"
     ]
    }
   ],
   "source": [
    "TIME_NOW = datetime(2023, 3, 14, 9, 0, 0)\n",
    "ensure_data_exists(TIME_NOW, 24, 15)"
   ]
  },
  {
   "cell_type": "markdown",
   "id": "82ec7063-072d-4760-abd9-6af5a96822bb",
   "metadata": {},
   "source": [
    "## appendix"
   ]
  },
  {
   "cell_type": "markdown",
   "id": "635a14ca-a025-4c13-97c3-80bddd3f8adb",
   "metadata": {},
   "source": [
    "check for any active jobs"
   ]
  },
  {
   "cell_type": "code",
   "execution_count": 17,
   "id": "d6307032-b648-488b-b5c2-1fba02572fe5",
   "metadata": {},
   "outputs": [],
   "source": [
    "client = bigquery.Client()\n",
    "for p in client.list_jobs(state_filter=\"pending\"):\n",
    "    print(p)\n",
    "# for p in client.list_jobs(state_filter=\"running\"):\n",
    "#     print(p)"
   ]
  },
  {
   "cell_type": "markdown",
   "id": "18c55787-a825-4a51-9023-ea5c8a2a3a1f",
   "metadata": {},
   "source": [
    "examine output"
   ]
  },
  {
   "cell_type": "code",
   "execution_count": 5,
   "id": "1b368e2d-825c-44ac-8a96-9523b315f1d8",
   "metadata": {},
   "outputs": [],
   "source": [
    "import duckdb\n",
    "\n",
    "conn = duckdb.connect()\n",
    "conn.execute(\n",
    "    \"SELECT min(emb_update_time), max(emb_update_time) FROM read_parquet('datasets/*.pq')\"\n",
    ")\n",
    "conn.fetchall()\n",
    "conn.close()"
   ]
  },
  {
   "cell_type": "code",
   "execution_count": 6,
   "id": "5e35da1d-0887-495a-a5a0-6bf8e6c388de",
   "metadata": {},
   "outputs": [],
   "source": []
  },
  {
   "cell_type": "code",
   "execution_count": null,
   "id": "8baba363-8d9a-4fc1-95f9-a6410e4955a7",
   "metadata": {},
   "outputs": [],
   "source": []
  }
 ],
 "metadata": {
  "kernelspec": {
   "display_name": "Python 3 (ipykernel)",
   "language": "python",
   "name": "python3"
  },
  "language_info": {
   "codemirror_mode": {
    "name": "ipython",
    "version": 3
   },
   "file_extension": ".py",
   "mimetype": "text/x-python",
   "name": "python",
   "nbconvert_exporter": "python",
   "pygments_lexer": "ipython3",
   "version": "3.10.6"
  }
 },
 "nbformat": 4,
 "nbformat_minor": 5
}
